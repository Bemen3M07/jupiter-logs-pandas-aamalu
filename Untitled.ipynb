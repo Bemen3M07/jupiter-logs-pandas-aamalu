{
 "cells": [
  {
   "cell_type": "code",
   "execution_count": 2,
   "id": "91234852-dfd9-4f89-934e-d3654ab1bafb",
   "metadata": {},
   "outputs": [
    {
     "name": "stderr",
     "output_type": "stream",
     "text": [
      "2024-11-15 19:51:14,281 is when this event was logged.\n"
     ]
    }
   ],
   "source": [
    "import logging\n",
    "import logging.config\n",
    "\n",
    "logging.config.fileConfig('logging.conf')\n",
    "\n",
    "# create logger\n",
    "logger = logging.getLogger('ExempleFichero')\n",
    "\n",
    "# 'application' code\n",
    "logger.debug('debug message')\n",
    "logger.info('info message')\n",
    "logger.warning('warn message')\n",
    "logger.error('error message')\n",
    "logger.critical('critical message')"
   ]
  },
  {
   "cell_type": "code",
   "execution_count": null,
   "id": "d4048343-f1ef-483b-8bd0-3d96895b4734",
   "metadata": {},
   "outputs": [],
   "source": []
  }
 ],
 "metadata": {
  "kernelspec": {
   "display_name": "Python 3 (ipykernel)",
   "language": "python",
   "name": "python3"
  },
  "language_info": {
   "codemirror_mode": {
    "name": "ipython",
    "version": 3
   },
   "file_extension": ".py",
   "mimetype": "text/x-python",
   "name": "python",
   "nbconvert_exporter": "python",
   "pygments_lexer": "ipython3",
   "version": "3.12.1"
  }
 },
 "nbformat": 4,
 "nbformat_minor": 5
}
