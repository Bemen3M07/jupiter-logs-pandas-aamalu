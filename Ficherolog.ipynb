{
 "cells": [
  {
   "cell_type": "code",
   "execution_count": 1,
   "id": "91234852-dfd9-4f89-934e-d3654ab1bafb",
   "metadata": {},
   "outputs": [
    {
     "name": "stdout",
     "output_type": "stream",
     "text": [
      "2024-11-19 18:59:58 - ExempleFichero - DEBUG - debug mensaje cada dos segundos\n",
      "2024-11-19 19:00:00 - ExempleFichero - DEBUG - debug mensaje cada dos segundos\n",
      "2024-11-19 19:00:02 - ExempleFichero - DEBUG - debug mensaje cada dos segundos\n",
      "2024-11-19 19:00:04 - ExempleFichero - DEBUG - debug mensaje cada dos segundos\n",
      "2024-11-19 19:00:06 - ExempleFichero - DEBUG - debug mensaje cada dos segundos\n",
      "2024-11-19 19:00:08 - ExempleFichero - DEBUG - debug mensaje cada dos segundos\n",
      "2024-11-19 19:00:10 - ExempleFichero - DEBUG - debug mensaje cada dos segundos\n",
      "2024-11-19 19:00:12 - ExempleFichero - DEBUG - debug mensaje cada dos segundos\n",
      "2024-11-19 19:00:14 - ExempleFichero - DEBUG - debug mensaje cada dos segundos\n",
      "2024-11-19 19:00:16 - ExempleFichero - DEBUG - debug mensaje cada dos segundos\n",
      "2024-11-19 19:00:18 - ExempleFichero - DEBUG - debug mensaje cada dos segundos\n",
      "2024-11-19 19:00:20 - ExempleFichero - DEBUG - debug mensaje cada dos segundos\n",
      "2024-11-19 19:00:22 - ExempleFichero - DEBUG - debug mensaje cada dos segundos\n"
     ]
    },
    {
     "ename": "KeyboardInterrupt",
     "evalue": "",
     "output_type": "error",
     "traceback": [
      "\u001b[0;31m---------------------------------------------------------------------------\u001b[0m",
      "\u001b[0;31mKeyboardInterrupt\u001b[0m                         Traceback (most recent call last)",
      "Cell \u001b[0;32mIn[1], line 12\u001b[0m\n\u001b[1;32m     10\u001b[0m \u001b[38;5;28;01mwhile\u001b[39;00m \u001b[38;5;28;01mTrue\u001b[39;00m:\n\u001b[1;32m     11\u001b[0m     logger\u001b[38;5;241m.\u001b[39mdebug(\u001b[38;5;124m'\u001b[39m\u001b[38;5;124mdebug mensaje cada dos segundos\u001b[39m\u001b[38;5;124m'\u001b[39m)\n\u001b[0;32m---> 12\u001b[0m     \u001b[43mtime\u001b[49m\u001b[38;5;241;43m.\u001b[39;49m\u001b[43msleep\u001b[49m\u001b[43m(\u001b[49m\u001b[38;5;241;43m2\u001b[39;49m\u001b[43m)\u001b[49m  \u001b[38;5;66;03m# Pausa de 2 segundos\u001b[39;00m\n",
      "\u001b[0;31mKeyboardInterrupt\u001b[0m: "
     ]
    }
   ],
   "source": [
    "import logging\n",
    "import logging.config\n",
    "import time\n",
    "\n",
    "logging.config.fileConfig('logging.conf')\n",
    "\n",
    "# crear logger\n",
    "logger = logging.getLogger('ExempleFichero')\n",
    "\n",
    "while True:\n",
    "    logger.debug('debug mensaje cada dos segundos')\n",
    "    time.sleep(2)  # Pausa de 2 segundos\n",
    "\n"
   ]
  },
  {
   "cell_type": "code",
   "execution_count": null,
   "id": "1349eb69-f2cd-4689-a470-494e0e637f2d",
   "metadata": {},
   "outputs": [],
   "source": []
  }
 ],
 "metadata": {
  "kernelspec": {
   "display_name": "Python 3 (ipykernel)",
   "language": "python",
   "name": "python3"
  },
  "language_info": {
   "codemirror_mode": {
    "name": "ipython",
    "version": 3
   },
   "file_extension": ".py",
   "mimetype": "text/x-python",
   "name": "python",
   "nbconvert_exporter": "python",
   "pygments_lexer": "ipython3",
   "version": "3.12.1"
  }
 },
 "nbformat": 4,
 "nbformat_minor": 5
}
