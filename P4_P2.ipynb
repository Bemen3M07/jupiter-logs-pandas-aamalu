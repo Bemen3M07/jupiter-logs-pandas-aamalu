{
 "cells": [
  {
   "cell_type": "markdown",
   "id": "79d7858f-2b74-47ba-b495-56b479c6939f",
   "metadata": {},
   "source": [
    "# Parte 2/2 - P4\n",
    "\n",
    "## Exercici 1\n",
    "\n",
    "Explica quines comandes de Linux pots fer servir a l’hora d’analitzar logs escrits a fitxer per a:\n",
    "\n",
    "### ● Veure contínuament els logs que es van escrivint a un arxiu\n",
    "\n",
    "```bash\n",
    "tail -f /ruta/al/archivo.log\n",
    "```\n",
    "Este comando mostrará las últimas líneas del archivo y, a medida que se agreguen nuevas entradas, las irá mostrando automáticamente.\n",
    "### ● Cercar una paraula concreta dintre d’un arxiu de log\n",
    "\n",
    "```bash\n",
    "grep \"palabra\" /ruta/al/archivo.log \n",
    "```\n",
    "Para buscar una palabra específica en un archivo, utilizamos el comando grep"
   ]
  }
 ],
 "metadata": {
  "kernelspec": {
   "display_name": "Python 3 (ipykernel)",
   "language": "python",
   "name": "python3"
  },
  "language_info": {
   "codemirror_mode": {
    "name": "ipython",
    "version": 3
   },
   "file_extension": ".py",
   "mimetype": "text/x-python",
   "name": "python",
   "nbconvert_exporter": "python",
   "pygments_lexer": "ipython3",
   "version": "3.12.1"
  }
 },
 "nbformat": 4,
 "nbformat_minor": 5
}
